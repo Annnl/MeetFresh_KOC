{
 "cells": [
  {
   "cell_type": "code",
   "execution_count": 8,
   "metadata": {},
   "outputs": [],
   "source": [
    "import json\n",
    "import numpy as np\n",
    "# data preparation\n",
    "file_path = r\"C:\\Users\\ningn\\Downloads\\creator.json\"\n",
    "with open(file_path, 'r') as file:\n",
    "    creator_data = json.load(file)\n",
    "file_path = r\"C:\\Users\\ningn\\Downloads\\content.json\"\n",
    "with open(file_path, 'r') as file:\n",
    "    content_data = json.load(file)"
   ]
  },
  {
   "cell_type": "code",
   "execution_count": 9,
   "metadata": {},
   "outputs": [],
   "source": [
    "#Ning's EDA plots and ranking\n",
    "\n",
    "#compute the average of interaction data for scaling\n",
    "def compute_intersection_average(data, inter_name):\n",
    "    inter_coll=[]\n",
    "    for i in data:\n",
    "        inter = i.get(inter_name, \"\")\n",
    "        if inter == \"\":\n",
    "            print(i.get(\"note_id\", \"\")+ \" has no \"+inter_name)\n",
    "        else:\n",
    "            inter_coll.append(int(inter))\n",
    "    return np.mean(inter_coll)\n",
    "mean_like = compute_intersection_average(content_data, \"liked_count\")\n",
    "mean_coll = compute_intersection_average(content_data, \"collected_count\")\n",
    "mean_comment = compute_intersection_average(content_data, \"comment_count\")\n",
    "mean_share = compute_intersection_average(content_data, \"share_count\")\n",
    "mean_fans = compute_intersection_average(creator_data,\"fans\")\n"
   ]
  }
 ],
 "metadata": {
  "kernelspec": {
   "display_name": "xiaohongshu2",
   "language": "python",
   "name": "python3"
  },
  "language_info": {
   "codemirror_mode": {
    "name": "ipython",
    "version": 3
   },
   "file_extension": ".py",
   "mimetype": "text/x-python",
   "name": "python",
   "nbconvert_exporter": "python",
   "pygments_lexer": "ipython3",
   "version": "3.9.21"
  }
 },
 "nbformat": 4,
 "nbformat_minor": 2
}

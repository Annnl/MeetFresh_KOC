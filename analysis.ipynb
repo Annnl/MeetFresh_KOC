{
 "cells": [
  {
   "cell_type": "code",
   "execution_count": 2,
   "metadata": {},
   "outputs": [],
   "source": [
    "import json\n",
    "import numpy as np\n",
    "import matplotlib.pyplot as plt\n",
    "from address_config import find_address\n",
    "# data preparation\n",
    "# comment my filepath and replace by yours.\n",
    "file_path = find_address()\n",
    "with open(file_path[0], 'r') as file:\n",
    "    creator_data = json.load(file)\n",
    "with open(file_path[1], 'r') as file:\n",
    "    content_data = json.load(file)"
   ]
  },
  {
   "cell_type": "code",
   "execution_count": 3,
   "metadata": {},
   "outputs": [],
   "source": [
    "#Ning's EDA plots and ranking\n",
    "\n",
    "#compute the average and standard deviation of interaction data for scaling\n",
    "def compute_intersection_average(data, inter_name):\n",
    "    inter_coll=[]\n",
    "    for i in data:\n",
    "        inter = i.get(inter_name, \"\")\n",
    "        if inter == \"\":\n",
    "            print(i.get(\"note_id\", \"\")+ \" has no \"+inter_name)\n",
    "        else:\n",
    "            inter_coll.append(int(inter))\n",
    "    return np.mean(inter_coll),np.std(inter_coll)\n",
    "mean_like, std_like = compute_intersection_average(content_data, \"liked_count\")\n",
    "mean_coll, std_coll = compute_intersection_average(content_data, \"collected_count\")\n",
    "mean_comment, std_comment = compute_intersection_average(content_data, \"comment_count\")\n",
    "mean_share, std_share = compute_intersection_average(content_data, \"share_count\")\n",
    "mean_fans, std_fans = compute_intersection_average(creator_data,\"fans\")\n",
    "mean_time, std_time = compute_intersection_average(content_data, \"time\")\n",
    "\n",
    "weight_like = 1\n",
    "weight_coll = 2\n",
    "weight_comm = 3\n",
    "weight_share = 4\n",
    "weight_time = 1\n",
    "\n"
   ]
  },
  {
   "cell_type": "code",
   "execution_count": 8,
   "metadata": {},
   "outputs": [
    {
     "name": "stdout",
     "output_type": "stream",
     "text": [
      "[0.7659035418598589, -0.17654619111104533, -2.271373691781122, 0.9479728956868015, -0.8248894713994389, -0.8756143296279241, -1.4793342657514041, -0.5006956018602143, -0.42822018580735477, 1.888982831643891, -1.016729998520581, -0.9229317016720803, 1.058753780952932, 0.7253042960367764, 1.1952521001200558, -0.3435705318801818, -0.7309681810575998, 0.04118040445597427, 0.5757205889323332, -1.1760780684909997, -2.3469626668356325, -0.33761956484653244, 3.648891034271071, -0.4391277480745623, 0.09256096159424544, -0.02930803356578459, 2.6884042640618033, 1.5556654583896712, -0.6647724220958344, 1.2708186766933907, 7.999508619412799, 15.220759668204753, 1.511867981546589, 0.37229704561159577, 0.08751504946981248, 0.10029119592260594, -0.4469558712578224, 0.3782272590050167, -0.03936005985085433, 0.4026793953416076, 0.37549472898108527, 0.47258424088567225, -0.194057364595309, 1.0406308913658473, -0.5476368645941747, 0.20631001540051533, 1.2126219398109772, 0.8025365427058595, 0.19922438933578748, -0.11635328723121305, 0.26889604677451506, 0.8840420634141913, -0.5833050166202828, 1.5409685556084824, -0.2600831068963181, 0.8563063933046451, -0.24399926858238855, 0.5700055936372022, 20.82618525333116, -0.2611066050179525, 0.8259503416279917, 2.881087432208631, 1.2291877373350573, 1.650665583796161, -0.8575764343996369, 1.6587574685171826, 0.8612036589192694, 0.18107579194830783, 0.7700921557251958, -0.5654701239356762, 0.877506176065463, 0.25792835905842354, 1.509889701543835, -1.090500897105317, 1.0401847090201477, -1.8810276438691442, 0.42983132273724334, -0.6326715798384459, -0.6590595719063426, -0.8959650964369879, -0.7788627796081758, -0.6706108288269284, -0.14433498545317522]\n"
     ]
    }
   ],
   "source": [
    "creator_with_score = []\n",
    "for i in range(len(creator_data)):\n",
    "    score_coll = []\n",
    "    user_id = creator_data[i].get(\"user_id\", \"\")\n",
    "    for j in range(len(content_data)):\n",
    "        if content_data[j][\"user_id\"] == user_id:    \n",
    "            score = 0 \n",
    "            score += weight_like*(int(content_data[j][\"liked_count\"])-mean_like)/std_like \n",
    "            score += weight_coll*(int(content_data[j][\"collected_count\"])-mean_coll)/std_coll \n",
    "            score += weight_comm*(int(content_data[j][\"comment_count\"])-mean_comment)/std_comment \n",
    "            score += weight_share*(int(content_data[j][\"share_count\"])-mean_share)/std_share \n",
    "            score += weight_time*(int(content_data[j][\"time\"])-mean_time)/std_time\n",
    "            score_coll.append(score)\n",
    "            #print(score)\n",
    "    creator_with_score.append(np.mean(score_coll))\n",
    "print(creator_with_score)\n"
   ]
  },
  {
   "cell_type": "code",
   "execution_count": 12,
   "metadata": {},
   "outputs": [
    {
     "data": {
      "image/png": "[encoded data removed]",
      "text/plain": [
       "<Figure size 640x480 with 1 Axes>"
      ]
     },
     "metadata": {},
     "output_type": "display_data"
    }
   ],
   "source": [
    "plt.plot(sorted(creator_with_score))\n",
    "plt.ylabel(\"score\")\n",
    "plt.xlabel(\"rank\")\n",
    "plt.show()"
   ]
  }
 ],
 "metadata": {
  "kernelspec": {
   "display_name": "base",
   "language": "python",
   "name": "python3"
  },
  "language_info": {
   "codemirror_mode": {
    "name": "ipython",
    "version": 3
   },
   "file_extension": ".py",
   "mimetype": "text/x-python",
   "name": "python",
   "nbconvert_exporter": "python",
   "pygments_lexer": "ipython3",
   "version": "3.11.7"
  }
 },
 "nbformat": 4,
 "nbformat_minor": 2
}
